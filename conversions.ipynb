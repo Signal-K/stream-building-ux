{
 "cells": [
  {
   "cell_type": "code",
   "execution_count": 20,
   "metadata": {},
   "outputs": [],
   "source": [
    "import pandas as pd\n",
    "from ast import literal_eval\n",
    "pd.set_option('display.max_colwidth', None)\n",
    "pd.set_option('display.max_rows', 10)\n",
    "\n",
    "df = pd.read_csv('tools-for-thought.csv')\n",
    "sample = df.sample(100)"
   ]
  },
  {
   "cell_type": "code",
   "execution_count": 21,
   "metadata": {},
   "outputs": [],
   "source": [
    "from ast import literal_eval\n",
    "\n",
    "sample['media'] = df['attachments.media'].fillna('[]').apply(literal_eval).apply(lambda x: [{'type': i['type']} for i in x if type(i) == dict and \"type\" in i.keys()])\n",
    "sample['entities.annotations'] = sample['entities.annotations'].fillna('[]').apply(literal_eval).apply(lambda x: [{\"type\": i['type'], \"text\": i['normalized_text']} for i in x])\n",
    "sample['context.annotations'] = sample[\"context_annotations\"].fillna('[]').apply(literal_eval).apply(lambda x: [{\"domain\": i['domain']['name'], \"entity\": i['entity']['name']} for i in x])"
   ]
  },
  {
   "cell_type": "code",
   "execution_count": 22,
   "metadata": {},
   "outputs": [],
   "source": [
    "# mark standalone, reply, rt\n",
    "sample['rt'] = sample[\"referenced_tweets.retweeted.id\"].isna().apply(lambda x: not x)\n",
    "sample['reply'] = sample[\"referenced_tweets.replied_to.id\"].isna().apply(lambda x: not x)\n",
    "sample['quote'] = sample[\"referenced_tweets.quoted.id\"].isna().apply(lambda x: not x)\n",
    "sample['standalone'] = df[[\"referenced_tweets.replied_to.id\",\t\"referenced_tweets.retweeted.id\", \"referenced_tweets.quoted.id\"]].isna().sum(axis=1).apply(lambda x: True if x == 3 else False)\n",
    "\n",
    "# rename author.name to name\n",
    "sample = sample.rename(columns={'author.name': 'name', 'author.username': 'username', 'author.description': 'description'})\n",
    "\n",
    "# find all columns starting with 'public metrics'\n",
    "names = [col for col in df.columns if col.startswith('public_metrics')]\n",
    "# remove \n",
    "new_names = [col.split('.')[1] for col in names]\n",
    "sample = sample.rename(columns=dict(zip(names, new_names)))"
   ]
  },
  {
   "cell_type": "code",
   "execution_count": 23,
   "metadata": {},
   "outputs": [],
   "source": [
    "# Convert to desired schema\n",
    "\n",
    "sample['id'] = sample['id'].astype(str)\n",
    "sample['author'] = sample[['name', 'username', 'description']].to_dict(orient='records')\n",
    "sample['html'] = sample['text'].astype(str)\n",
    "sample['public_metrics'] = sample[new_names].to_dict(orient='records')\n",
    "\n",
    "sample = sample[['id', 'author', 'html', 'created_at', 'public_metrics', 'standalone', 'rt', 'reply', 'quote', 'geo.country', 'entities.annotations', 'context_annotations', 'media']]\n",
    "\n",
    "sample.to_json('sample.json', orient='records')"
   ]
  }
 ],
 "metadata": {
  "kernelspec": {
   "display_name": "Python 3.9.7 ('base')",
   "language": "python",
   "name": "python3"
  },
  "language_info": {
   "codemirror_mode": {
    "name": "ipython",
    "version": 3
   },
   "file_extension": ".py",
   "mimetype": "text/x-python",
   "name": "python",
   "nbconvert_exporter": "python",
   "pygments_lexer": "ipython3",
   "version": "3.9.7"
  },
  "orig_nbformat": 4,
  "vscode": {
   "interpreter": {
    "hash": "17114df6d96c3e1cb60efbd1ebfe6c037166772d51ada9a279fe71a9eeac778c"
   }
  }
 },
 "nbformat": 4,
 "nbformat_minor": 2
}
