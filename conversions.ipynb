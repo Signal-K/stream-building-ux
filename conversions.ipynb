{
 "cells": [
  {
   "cell_type": "code",
   "execution_count": 25,
   "metadata": {},
   "outputs": [],
   "source": [
    "import pandas as pd\n",
    "\n",
    "df = pd.read_csv('tools-for-thought.csv')\n",
    "sample = df.sample(100)"
   ]
  },
  {
   "cell_type": "code",
   "execution_count": 26,
   "metadata": {},
   "outputs": [],
   "source": [
    "# rename author.name to name\n",
    "sample = sample.rename(columns={'author.name': 'name', 'author.username': 'username'})\n",
    "\n",
    "# find all columns starting with 'public metrics'\n",
    "names = [col for col in df.columns if col.startswith('public_metrics')]\n",
    "# remove \n",
    "new_names = [col.split('.')[1] for col in names]\n",
    "sample = sample.rename(columns=dict(zip(names, new_names)))"
   ]
  },
  {
   "cell_type": "code",
   "execution_count": 27,
   "metadata": {},
   "outputs": [],
   "source": [
    "# Convert to desired schema\n",
    "\n",
    "sample['id'] = sample['id'].astype(str)\n",
    "sample['author'] = sample[['name', 'username']].to_dict(orient='records')\n",
    "sample['html'] = sample['text'].astype(str)\n",
    "sample['public_metrics'] = sample[new_names].to_dict(orient='records')\n",
    "\n",
    "sample = sample[['id', 'author', 'html', 'created_at', 'public_metrics']]\n",
    "\n",
    "sample.to_json('sample.json', orient='records')\n",
    "\n"
   ]
  },
  {
   "cell_type": "code",
   "execution_count": null,
   "metadata": {},
   "outputs": [],
   "source": []
  }
 ],
 "metadata": {
  "kernelspec": {
   "display_name": "Python 3.9.7 ('base')",
   "language": "python",
   "name": "python3"
  },
  "language_info": {
   "codemirror_mode": {
    "name": "ipython",
    "version": 3
   },
   "file_extension": ".py",
   "mimetype": "text/x-python",
   "name": "python",
   "nbconvert_exporter": "python",
   "pygments_lexer": "ipython3",
   "version": "3.9.7"
  },
  "orig_nbformat": 4,
  "vscode": {
   "interpreter": {
    "hash": "17114df6d96c3e1cb60efbd1ebfe6c037166772d51ada9a279fe71a9eeac778c"
   }
  }
 },
 "nbformat": 4,
 "nbformat_minor": 2
}
